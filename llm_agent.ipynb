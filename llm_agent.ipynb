{
 "cells": [
  {
   "cell_type": "code",
   "execution_count": 1,
   "metadata": {},
   "outputs": [],
   "source": [
    "# Import relevant functionality\n",
    "from langchain_anthropic import ChatAnthropic\n",
    "from langchain_community.tools.tavily_search import TavilySearchResults\n",
    "from langchain_core.messages import HumanMessage\n",
    "from langgraph.checkpoint.memory import MemorySaver\n",
    "from langgraph.prebuilt import create_react_agent"
   ]
  },
  {
   "cell_type": "code",
   "execution_count": 4,
   "metadata": {},
   "outputs": [],
   "source": [
    "search = TavilySearchResults(max_results=2)\n",
    "search_results = search.invoke(\"what is the weather in London\")\n"
   ]
  },
  {
   "cell_type": "code",
   "execution_count": 7,
   "metadata": {},
   "outputs": [
    {
     "data": {
      "text/plain": [
       "[{'url': 'https://www.weatherapi.com/',\n",
       "  'content': \"{'location': {'name': 'London', 'region': 'City of London, Greater London', 'country': 'United Kingdom', 'lat': 51.5171, 'lon': -0.1062, 'tz_id': 'Europe/London', 'localtime_epoch': 1735585755, 'localtime': '2024-12-30 19:09'}, 'current': {'last_updated_epoch': 1735585200, 'last_updated': '2024-12-30 19:00', 'temp_c': 9.4, 'temp_f': 48.9, 'is_day': 0, 'condition': {'text': 'Overcast', 'icon': '//cdn.weatherapi.com/weather/64x64/night/122.png', 'code': 1009}, 'wind_mph': 8.1, 'wind_kph': 13.0, 'wind_degree': 232, 'wind_dir': 'SW', 'pressure_mb': 1026.0, 'pressure_in': 30.3, 'precip_mm': 0.0, 'precip_in': 0.0, 'humidity': 76, 'cloud': 100, 'feelslike_c': 7.5, 'feelslike_f': 45.4, 'windchill_c': 4.1, 'windchill_f': 39.4, 'heatindex_c': 6.7, 'heatindex_f': 44.0, 'dewpoint_c': 5.1, 'dewpoint_f': 41.1, 'vis_km': 10.0, 'vis_miles': 6.0, 'uv': 0.0, 'gust_mph': 13.3, 'gust_kph': 21.4}}\"},\n",
       " {'url': 'https://www.weather25.com/europe/united-kingdom/london?page=month&month=December',\n",
       "  'content': 'Full weather forecast for London in December 2024. Check the temperatures, chance of rain and more in London during December. United States England Australia Canada °F °C. London . Weather outlook for December 2024 . Overview ; 14 Days ; ... 30. 8 ° / 5 ° 31. 11 ° / 6 °'}]"
      ]
     },
     "execution_count": 7,
     "metadata": {},
     "output_type": "execute_result"
    }
   ],
   "source": [
    "search_results"
   ]
  },
  {
   "cell_type": "code",
   "execution_count": 10,
   "metadata": {},
   "outputs": [
    {
     "data": {
      "text/plain": [
       "{'url': 'https://www.weatherapi.com/',\n",
       " 'content': \"{'location': {'name': 'London', 'region': 'City of London, Greater London', 'country': 'United Kingdom', 'lat': 51.5171, 'lon': -0.1062, 'tz_id': 'Europe/London', 'localtime_epoch': 1735585755, 'localtime': '2024-12-30 19:09'}, 'current': {'last_updated_epoch': 1735585200, 'last_updated': '2024-12-30 19:00', 'temp_c': 9.4, 'temp_f': 48.9, 'is_day': 0, 'condition': {'text': 'Overcast', 'icon': '//cdn.weatherapi.com/weather/64x64/night/122.png', 'code': 1009}, 'wind_mph': 8.1, 'wind_kph': 13.0, 'wind_degree': 232, 'wind_dir': 'SW', 'pressure_mb': 1026.0, 'pressure_in': 30.3, 'precip_mm': 0.0, 'precip_in': 0.0, 'humidity': 76, 'cloud': 100, 'feelslike_c': 7.5, 'feelslike_f': 45.4, 'windchill_c': 4.1, 'windchill_f': 39.4, 'heatindex_c': 6.7, 'heatindex_f': 44.0, 'dewpoint_c': 5.1, 'dewpoint_f': 41.1, 'vis_km': 10.0, 'vis_miles': 6.0, 'uv': 0.0, 'gust_mph': 13.3, 'gust_kph': 21.4}}\"}"
      ]
     },
     "execution_count": 10,
     "metadata": {},
     "output_type": "execute_result"
    }
   ],
   "source": [
    "search_results[0]"
   ]
  },
  {
   "cell_type": "code",
   "execution_count": 11,
   "metadata": {},
   "outputs": [
    {
     "data": {
      "text/plain": [
       "{'url': 'https://www.weather25.com/europe/united-kingdom/london?page=month&month=December',\n",
       " 'content': 'Full weather forecast for London in December 2024. Check the temperatures, chance of rain and more in London during December. United States England Australia Canada °F °C. London . Weather outlook for December 2024 . Overview ; 14 Days ; ... 30. 8 ° / 5 ° 31. 11 ° / 6 °'}"
      ]
     },
     "execution_count": 11,
     "metadata": {},
     "output_type": "execute_result"
    }
   ],
   "source": [
    "search_results[1]"
   ]
  },
  {
   "cell_type": "code",
   "execution_count": 12,
   "metadata": {},
   "outputs": [],
   "source": [
    "tools = [search]"
   ]
  },
  {
   "cell_type": "code",
   "execution_count": 15,
   "metadata": {},
   "outputs": [
    {
     "data": {
      "text/plain": [
       "ChatOpenAI(client=<openai.resources.chat.completions.Completions object at 0xffff999e93d0>, async_client=<openai.resources.chat.completions.AsyncCompletions object at 0xffff999f1890>, root_client=<openai.OpenAI object at 0xffff999c2790>, root_async_client=<openai.AsyncOpenAI object at 0xffff99d35e10>, model_name='gpt-4', model_kwargs={}, openai_api_key=SecretStr('**********'))"
      ]
     },
     "execution_count": 15,
     "metadata": {},
     "output_type": "execute_result"
    }
   ],
   "source": [
    "from langchain_openai import ChatOpenAI\n",
    "\n",
    "model = ChatOpenAI(model=\"gpt-4\")\n",
    "model"
   ]
  },
  {
   "cell_type": "code",
   "execution_count": 18,
   "metadata": {},
   "outputs": [
    {
     "data": {
      "text/plain": [
       "AIMessage(content='Hello! How can I assist you today?', additional_kwargs={'refusal': None}, response_metadata={'token_usage': {'completion_tokens': 10, 'prompt_tokens': 9, 'total_tokens': 19, 'completion_tokens_details': {'accepted_prediction_tokens': 0, 'audio_tokens': 0, 'reasoning_tokens': 0, 'rejected_prediction_tokens': 0}, 'prompt_tokens_details': {'audio_tokens': 0, 'cached_tokens': 0}}, 'model_name': 'gpt-4-0613', 'system_fingerprint': None, 'finish_reason': 'stop', 'logprobs': None}, id='run-897fcc2b-50ca-4889-92fb-723a05c5886a-0', usage_metadata={'input_tokens': 9, 'output_tokens': 10, 'total_tokens': 19, 'input_token_details': {'audio': 0, 'cache_read': 0}, 'output_token_details': {'audio': 0, 'reasoning': 0}})"
      ]
     },
     "execution_count": 18,
     "metadata": {},
     "output_type": "execute_result"
    }
   ],
   "source": [
    "from langchain_core.messages import HumanMessage\n",
    "\n",
    "response = model.invoke([HumanMessage(content=\"hi!\")])\n",
    "response"
   ]
  },
  {
   "cell_type": "code",
   "execution_count": 19,
   "metadata": {},
   "outputs": [
    {
     "data": {
      "text/plain": [
       "'Hello! How can I assist you today?'"
      ]
     },
     "execution_count": 19,
     "metadata": {},
     "output_type": "execute_result"
    }
   ],
   "source": [
    "response.content"
   ]
  },
  {
   "cell_type": "code",
   "execution_count": 20,
   "metadata": {},
   "outputs": [
    {
     "data": {
      "text/plain": [
       "RunnableBinding(bound=ChatOpenAI(client=<openai.resources.chat.completions.Completions object at 0xffff999e93d0>, async_client=<openai.resources.chat.completions.AsyncCompletions object at 0xffff999f1890>, root_client=<openai.OpenAI object at 0xffff999c2790>, root_async_client=<openai.AsyncOpenAI object at 0xffff99d35e10>, model_name='gpt-4', model_kwargs={}, openai_api_key=SecretStr('**********')), kwargs={'tools': [{'type': 'function', 'function': {'name': 'tavily_search_results_json', 'description': 'A search engine optimized for comprehensive, accurate, and trusted results. Useful for when you need to answer questions about current events. Input should be a search query.', 'parameters': {'properties': {'query': {'description': 'search query to look up', 'type': 'string'}}, 'required': ['query'], 'type': 'object'}}}]}, config={}, config_factories=[])"
      ]
     },
     "execution_count": 20,
     "metadata": {},
     "output_type": "execute_result"
    }
   ],
   "source": [
    "model_with_tools  = model.bind_tools(tools)\n",
    "model_with_tools"
   ]
  },
  {
   "cell_type": "code",
   "execution_count": 21,
   "metadata": {},
   "outputs": [
    {
     "data": {
      "text/plain": [
       "ChatOpenAI(client=<openai.resources.chat.completions.Completions object at 0xffff999e93d0>, async_client=<openai.resources.chat.completions.AsyncCompletions object at 0xffff999f1890>, root_client=<openai.OpenAI object at 0xffff999c2790>, root_async_client=<openai.AsyncOpenAI object at 0xffff99d35e10>, model_name='gpt-4', model_kwargs={}, openai_api_key=SecretStr('**********'))"
      ]
     },
     "execution_count": 21,
     "metadata": {},
     "output_type": "execute_result"
    }
   ],
   "source": [
    "model"
   ]
  },
  {
   "cell_type": "code",
   "execution_count": 22,
   "metadata": {},
   "outputs": [
    {
     "data": {
      "text/plain": [
       "('Hello! How can I assist you today?', [])"
      ]
     },
     "execution_count": 22,
     "metadata": {},
     "output_type": "execute_result"
    }
   ],
   "source": [
    "r = model_with_tools.invoke([HumanMessage(content=\"Hi\")])\n",
    "r.content, r.tool_calls"
   ]
  },
  {
   "cell_type": "code",
   "execution_count": 23,
   "metadata": {},
   "outputs": [],
   "source": [
    "r = model_with_tools.invoke([HumanMessage(content=\"What's the weather in London?\")])"
   ]
  },
  {
   "cell_type": "code",
   "execution_count": 26,
   "metadata": {},
   "outputs": [
    {
     "data": {
      "text/plain": [
       "AIMessage(content='', additional_kwargs={'tool_calls': [{'id': 'call_bLSf78UdgH3kdzCxyQV7BNKT', 'function': {'arguments': '{\\n  \"query\": \"current weather in London\"\\n}', 'name': 'tavily_search_results_json'}, 'type': 'function'}], 'refusal': None}, response_metadata={'token_usage': {'completion_tokens': 23, 'prompt_tokens': 88, 'total_tokens': 111, 'completion_tokens_details': {'accepted_prediction_tokens': 0, 'audio_tokens': 0, 'reasoning_tokens': 0, 'rejected_prediction_tokens': 0}, 'prompt_tokens_details': {'audio_tokens': 0, 'cached_tokens': 0}}, 'model_name': 'gpt-4-0613', 'system_fingerprint': None, 'finish_reason': 'tool_calls', 'logprobs': None}, id='run-e34fd3f1-fddf-4686-bd07-a2c6ddd15e2d-0', tool_calls=[{'name': 'tavily_search_results_json', 'args': {'query': 'current weather in London'}, 'id': 'call_bLSf78UdgH3kdzCxyQV7BNKT', 'type': 'tool_call'}], usage_metadata={'input_tokens': 88, 'output_tokens': 23, 'total_tokens': 111, 'input_token_details': {'audio': 0, 'cache_read': 0}, 'output_token_details': {'audio': 0, 'reasoning': 0}})"
      ]
     },
     "execution_count": 26,
     "metadata": {},
     "output_type": "execute_result"
    }
   ],
   "source": [
    "r"
   ]
  },
  {
   "cell_type": "code",
   "execution_count": 27,
   "metadata": {},
   "outputs": [
    {
     "data": {
      "text/plain": [
       "''"
      ]
     },
     "execution_count": 27,
     "metadata": {},
     "output_type": "execute_result"
    }
   ],
   "source": [
    "r.content"
   ]
  },
  {
   "cell_type": "code",
   "execution_count": 28,
   "metadata": {},
   "outputs": [
    {
     "data": {
      "text/plain": [
       "[{'name': 'tavily_search_results_json',\n",
       "  'args': {'query': 'current weather in London'},\n",
       "  'id': 'call_bLSf78UdgH3kdzCxyQV7BNKT',\n",
       "  'type': 'tool_call'}]"
      ]
     },
     "execution_count": 28,
     "metadata": {},
     "output_type": "execute_result"
    }
   ],
   "source": [
    "r.tool_calls"
   ]
  },
  {
   "cell_type": "code",
   "execution_count": 29,
   "metadata": {},
   "outputs": [
    {
     "data": {
      "image/png": "[encoded data removed]",
      "text/plain": [
       "<langgraph.graph.state.CompiledStateGraph object at 0xffff98b59350>"
      ]
     },
     "execution_count": 29,
     "metadata": {},
     "output_type": "execute_result"
    }
   ],
   "source": [
    "from langgraph.prebuilt import create_react_agent\n",
    "\n",
    "agent_executor = create_react_agent(model, tools)\n",
    "agent_executor"
   ]
  },
  {
   "cell_type": "code",
   "execution_count": 30,
   "metadata": {},
   "outputs": [
    {
     "data": {
      "text/plain": [
       "{'messages': [HumanMessage(content='hi', additional_kwargs={}, response_metadata={}, id='f339b981-9bbc-4699-8be5-f9e3cb91acd3'),\n",
       "  AIMessage(content='Hello! How can I assist you today?', additional_kwargs={'refusal': None}, response_metadata={'token_usage': {'completion_tokens': 11, 'prompt_tokens': 82, 'total_tokens': 93, 'completion_tokens_details': {'accepted_prediction_tokens': 0, 'audio_tokens': 0, 'reasoning_tokens': 0, 'rejected_prediction_tokens': 0}, 'prompt_tokens_details': {'audio_tokens': 0, 'cached_tokens': 0}}, 'model_name': 'gpt-4-0613', 'system_fingerprint': None, 'finish_reason': 'stop', 'logprobs': None}, id='run-8a99e286-6736-4ab9-89d0-fb7036363310-0', usage_metadata={'input_tokens': 82, 'output_tokens': 11, 'total_tokens': 93, 'input_token_details': {'audio': 0, 'cache_read': 0}, 'output_token_details': {'audio': 0, 'reasoning': 0}})]}"
      ]
     },
     "execution_count": 30,
     "metadata": {},
     "output_type": "execute_result"
    }
   ],
   "source": [
    "r = agent_executor.invoke({\"messages\": [HumanMessage(content=\"hi\")]})\n",
    "r"
   ]
  },
  {
   "cell_type": "code",
   "execution_count": 32,
   "metadata": {},
   "outputs": [
    {
     "data": {
      "text/plain": [
       "[HumanMessage(content='hi', additional_kwargs={}, response_metadata={}, id='f339b981-9bbc-4699-8be5-f9e3cb91acd3'),\n",
       " AIMessage(content='Hello! How can I assist you today?', additional_kwargs={'refusal': None}, response_metadata={'token_usage': {'completion_tokens': 11, 'prompt_tokens': 82, 'total_tokens': 93, 'completion_tokens_details': {'accepted_prediction_tokens': 0, 'audio_tokens': 0, 'reasoning_tokens': 0, 'rejected_prediction_tokens': 0}, 'prompt_tokens_details': {'audio_tokens': 0, 'cached_tokens': 0}}, 'model_name': 'gpt-4-0613', 'system_fingerprint': None, 'finish_reason': 'stop', 'logprobs': None}, id='run-8a99e286-6736-4ab9-89d0-fb7036363310-0', usage_metadata={'input_tokens': 82, 'output_tokens': 11, 'total_tokens': 93, 'input_token_details': {'audio': 0, 'cache_read': 0}, 'output_token_details': {'audio': 0, 'reasoning': 0}})]"
      ]
     },
     "execution_count": 32,
     "metadata": {},
     "output_type": "execute_result"
    }
   ],
   "source": [
    "r[\"messages\"]"
   ]
  },
  {
   "cell_type": "code",
   "execution_count": 33,
   "metadata": {},
   "outputs": [
    {
     "data": {
      "text/plain": [
       "[HumanMessage(content=\"What's the weather in Beijing?\", additional_kwargs={}, response_metadata={}, id='d6dedaa5-30b4-47f3-b6e4-7e8ad35bbf65'),\n",
       " AIMessage(content='', additional_kwargs={'tool_calls': [{'id': 'call_x1qy5uavZ0IBtowKeGbnW4ip', 'function': {'arguments': '{\\n  \"query\": \"current weather in Beijing\"\\n}', 'name': 'tavily_search_results_json'}, 'type': 'function'}], 'refusal': None}, response_metadata={'token_usage': {'completion_tokens': 23, 'prompt_tokens': 88, 'total_tokens': 111, 'completion_tokens_details': {'accepted_prediction_tokens': 0, 'audio_tokens': 0, 'reasoning_tokens': 0, 'rejected_prediction_tokens': 0}, 'prompt_tokens_details': {'audio_tokens': 0, 'cached_tokens': 0}}, 'model_name': 'gpt-4-0613', 'system_fingerprint': None, 'finish_reason': 'tool_calls', 'logprobs': None}, id='run-43eafb09-8bd2-4345-90a7-dfa627d1be16-0', tool_calls=[{'name': 'tavily_search_results_json', 'args': {'query': 'current weather in Beijing'}, 'id': 'call_x1qy5uavZ0IBtowKeGbnW4ip', 'type': 'tool_call'}], usage_metadata={'input_tokens': 88, 'output_tokens': 23, 'total_tokens': 111, 'input_token_details': {'audio': 0, 'cache_read': 0}, 'output_token_details': {'audio': 0, 'reasoning': 0}}),\n",
       " ToolMessage(content='[{\"url\": \"https://www.weatherapi.com/\", \"content\": \"{\\'location\\': {\\'name\\': \\'Beijing\\', \\'region\\': \\'Beijing\\', \\'country\\': \\'China\\', \\'lat\\': 39.9289, \\'lon\\': 116.3883, \\'tz_id\\': \\'Asia/Shanghai\\', \\'localtime_epoch\\': 1735595866, \\'localtime\\': \\'2024-12-31 05:57\\'}, \\'current\\': {\\'last_updated_epoch\\': 1735595100, \\'last_updated\\': \\'2024-12-31 05:45\\', \\'temp_c\\': -1.2, \\'temp_f\\': 29.8, \\'is_day\\': 0, \\'condition\\': {\\'text\\': \\'Clear\\', \\'icon\\': \\'//cdn.weatherapi.com/weather/64x64/night/113.png\\', \\'code\\': 1000}, \\'wind_mph\\': 2.5, \\'wind_kph\\': 4.0, \\'wind_degree\\': 318, \\'wind_dir\\': \\'NW\\', \\'pressure_mb\\': 1027.0, \\'pressure_in\\': 30.32, \\'precip_mm\\': 0.0, \\'precip_in\\': 0.0, \\'humidity\\': 38, \\'cloud\\': 7, \\'feelslike_c\\': -2.4, \\'feelslike_f\\': 27.6, \\'windchill_c\\': -2.4, \\'windchill_f\\': 27.6, \\'heatindex_c\\': -1.3, \\'heatindex_f\\': 29.8, \\'dewpoint_c\\': -13.6, \\'dewpoint_f\\': 7.4, \\'vis_km\\': 10.0, \\'vis_miles\\': 6.0, \\'uv\\': 0.0, \\'gust_mph\\': 3.9, \\'gust_kph\\': 6.3}}\"}, {\"url\": \"https://www.easeweather.com/asia/china/beijing/december\", \"content\": \"So far, December 2024 in Beijing is slightly warmer than the historical average by 0.6 ° C. Expect cooler weather in the next days in Beijing with the forecast suggesting a temperature of 2.4 ° C, lower than the historical average. In general, the average temperature in Beijing at the beginning of December is 6.9 ° C.\"}]', name='tavily_search_results_json', id='976d1ce1-8219-49a5-abdd-c66c30664550', tool_call_id='call_x1qy5uavZ0IBtowKeGbnW4ip', artifact={'query': 'current weather in Beijing', 'follow_up_questions': None, 'answer': None, 'images': [], 'results': [{'title': 'Weather in Beijing, China', 'url': 'https://www.weatherapi.com/', 'content': \"{'location': {'name': 'Beijing', 'region': 'Beijing', 'country': 'China', 'lat': 39.9289, 'lon': 116.3883, 'tz_id': 'Asia/Shanghai', 'localtime_epoch': 1735595866, 'localtime': '2024-12-31 05:57'}, 'current': {'last_updated_epoch': 1735595100, 'last_updated': '2024-12-31 05:45', 'temp_c': -1.2, 'temp_f': 29.8, 'is_day': 0, 'condition': {'text': 'Clear', 'icon': '//cdn.weatherapi.com/weather/64x64/night/113.png', 'code': 1000}, 'wind_mph': 2.5, 'wind_kph': 4.0, 'wind_degree': 318, 'wind_dir': 'NW', 'pressure_mb': 1027.0, 'pressure_in': 30.32, 'precip_mm': 0.0, 'precip_in': 0.0, 'humidity': 38, 'cloud': 7, 'feelslike_c': -2.4, 'feelslike_f': 27.6, 'windchill_c': -2.4, 'windchill_f': 27.6, 'heatindex_c': -1.3, 'heatindex_f': 29.8, 'dewpoint_c': -13.6, 'dewpoint_f': 7.4, 'vis_km': 10.0, 'vis_miles': 6.0, 'uv': 0.0, 'gust_mph': 3.9, 'gust_kph': 6.3}}\", 'score': 0.8841152, 'raw_content': None}, {'title': 'Weather in Beijing in December 2024 - Detailed Forecast', 'url': 'https://www.easeweather.com/asia/china/beijing/december', 'content': 'So far, December 2024 in Beijing is slightly warmer than the historical average by 0.6 ° C. Expect cooler weather in the next days in Beijing with the forecast suggesting a temperature of 2.4 ° C, lower than the historical average. In general, the average temperature in Beijing at the beginning of December is 6.9 ° C.', 'score': 0.78788257, 'raw_content': None}], 'response_time': 2.23}),\n",
       " AIMessage(content='The current weather in Beijing, China is clear. The temperature is -1.2°C (29.8°F) but it feels like -2.4°C (27.6°F) due to the windchill. The wind is coming from the northwest at a speed of 4.0 kph (2.5 mph). The humidity is at 38% and there is no precipitation. [Source](https://www.weatherapi.com/)\\n\\nAccording to historical data, December 2024 in Beijing is slightly warmer than the historical average by 0.6°C. The forecast suggests cooler weather in the next days with a temperature of 2.4°C, lower than the historical average. [Source](https://www.easeweather.com/asia/china/beijing/december)', additional_kwargs={'refusal': None}, response_metadata={'token_usage': {'completion_tokens': 166, 'prompt_tokens': 624, 'total_tokens': 790, 'completion_tokens_details': {'accepted_prediction_tokens': 0, 'audio_tokens': 0, 'reasoning_tokens': 0, 'rejected_prediction_tokens': 0}, 'prompt_tokens_details': {'audio_tokens': 0, 'cached_tokens': 0}}, 'model_name': 'gpt-4-0613', 'system_fingerprint': None, 'finish_reason': 'stop', 'logprobs': None}, id='run-fbc00b91-dfe7-4484-85e7-25c2e0046894-0', usage_metadata={'input_tokens': 624, 'output_tokens': 166, 'total_tokens': 790, 'input_token_details': {'audio': 0, 'cache_read': 0}, 'output_token_details': {'audio': 0, 'reasoning': 0}})]"
      ]
     },
     "execution_count": 33,
     "metadata": {},
     "output_type": "execute_result"
    }
   ],
   "source": [
    "r = agent_executor.invoke(\n",
    "    {\"messages\": [HumanMessage(content=\"What's the weather in Beijing?\")]}\n",
    ")\n",
    "r[\"messages\"]"
   ]
  },
  {
   "cell_type": "code",
   "execution_count": 38,
   "metadata": {},
   "outputs": [
    {
     "name": "stdout",
     "output_type": "stream",
     "text": [
      "[{\"url\": \"https://www.weatherapi.com/\", \"content\": \"{'location': {'name': 'Beijing', 'region': 'Beijing', 'country': 'China', 'lat': 39.9289, 'lon': 116.3883, 'tz_id': 'Asia/Shanghai', 'localtime_epoch': 1735595866, 'localtime': '2024-12-31 05:57'}, 'current': {'last_updated_epoch': 1735595100, 'last_updated': '2024-12-31 05:45', 'temp_c': -1.2, 'temp_f': 29.8, 'is_day': 0, 'condition': {'text': 'Clear', 'icon': '//cdn.weatherapi.com/weather/64x64/night/113.png', 'code': 1000}, 'wind_mph': 2.5, 'wind_kph': 4.0, 'wind_degree': 318, 'wind_dir': 'NW', 'pressure_mb': 1027.0, 'pressure_in': 30.32, 'precip_mm': 0.0, 'precip_in': 0.0, 'humidity': 38, 'cloud': 7, 'feelslike_c': -2.4, 'feelslike_f': 27.6, 'windchill_c': -2.4, 'windchill_f': 27.6, 'heatindex_c': -1.3, 'heatindex_f': 29.8, 'dewpoint_c': -13.6, 'dewpoint_f': 7.4, 'vis_km': 10.0, 'vis_miles': 6.0, 'uv': 0.0, 'gust_mph': 3.9, 'gust_kph': 6.3}}\"}, {\"url\": \"https://www.easeweather.com/asia/china/beijing/december\", \"content\": \"So far, December 2024 in Beijing is slightly warmer than the historical average by 0.6 ° C. Expect cooler weather in the next days in Beijing with the forecast suggesting a temperature of 2.4 ° C, lower than the historical average. In general, the average temperature in Beijing at the beginning of December is 6.9 ° C.\"}]\n"
     ]
    }
   ],
   "source": [
    "print(r[\"messages\"][2].content)"
   ]
  },
  {
   "cell_type": "code",
   "execution_count": 39,
   "metadata": {},
   "outputs": [],
   "source": [
    "from langgraph.checkpoint.memory import MemorySaver\n",
    "\n",
    "memory = MemorySaver()\n"
   ]
  },
  {
   "cell_type": "code",
   "execution_count": 40,
   "metadata": {},
   "outputs": [],
   "source": [
    "agent_executor = create_react_agent(model, tools, checkpointer=memory)\n",
    "config = {\"configurable\": {\"thread_id\": \"abc123\"}}\n"
   ]
  },
  {
   "cell_type": "code",
   "execution_count": 41,
   "metadata": {},
   "outputs": [
    {
     "name": "stdout",
     "output_type": "stream",
     "text": [
      "{'agent': {'messages': [AIMessage(content='Hello Bob! How can I assist you today?', additional_kwargs={'refusal': None}, response_metadata={'token_usage': {'completion_tokens': 12, 'prompt_tokens': 84, 'total_tokens': 96, 'completion_tokens_details': {'accepted_prediction_tokens': 0, 'audio_tokens': 0, 'reasoning_tokens': 0, 'rejected_prediction_tokens': 0}, 'prompt_tokens_details': {'audio_tokens': 0, 'cached_tokens': 0}}, 'model_name': 'gpt-4-0613', 'system_fingerprint': None, 'finish_reason': 'stop', 'logprobs': None}, id='run-14eb4ed2-cb08-44d7-a278-43e3ad0ee4a5-0', usage_metadata={'input_tokens': 84, 'output_tokens': 12, 'total_tokens': 96, 'input_token_details': {'audio': 0, 'cache_read': 0}, 'output_token_details': {'audio': 0, 'reasoning': 0}})]}}\n",
      "----\n"
     ]
    }
   ],
   "source": [
    "for chunk in agent_executor.stream(\n",
    "    {\"messages\": [HumanMessage(content=\"hi Im Bob\")]}, config\n",
    "):\n",
    "    print(chunk)\n",
    "    print(\"----\")"
   ]
  },
  {
   "cell_type": "code",
   "execution_count": 42,
   "metadata": {},
   "outputs": [
    {
     "name": "stdout",
     "output_type": "stream",
     "text": [
      "{'agent': {'messages': [AIMessage(content='Your name is Bob.', additional_kwargs={'refusal': None}, response_metadata={'token_usage': {'completion_tokens': 7, 'prompt_tokens': 107, 'total_tokens': 114, 'completion_tokens_details': {'accepted_prediction_tokens': 0, 'audio_tokens': 0, 'reasoning_tokens': 0, 'rejected_prediction_tokens': 0}, 'prompt_tokens_details': {'audio_tokens': 0, 'cached_tokens': 0}}, 'model_name': 'gpt-4-0613', 'system_fingerprint': None, 'finish_reason': 'stop', 'logprobs': None}, id='run-2a4eb9c1-0b12-484b-a3c9-aa1e077ca8ae-0', usage_metadata={'input_tokens': 107, 'output_tokens': 7, 'total_tokens': 114, 'input_token_details': {'audio': 0, 'cache_read': 0}, 'output_token_details': {'audio': 0, 'reasoning': 0}})]}}\n",
      "----\n"
     ]
    }
   ],
   "source": [
    "for chunk in agent_executor.stream(\n",
    "    {\"messages\": [HumanMessage(content=\"What's my name?\")]}, config\n",
    "):\n",
    "    print(chunk)\n",
    "    print(\"----\")"
   ]
  },
  {
   "cell_type": "code",
   "execution_count": 43,
   "metadata": {},
   "outputs": [
    {
     "name": "stdout",
     "output_type": "stream",
     "text": [
      "{'agent': {'messages': [AIMessage(content=\"That's great, Bob! New York City is a vibrant place. How can I assist you further?\", additional_kwargs={'refusal': None}, response_metadata={'token_usage': {'completion_tokens': 23, 'prompt_tokens': 125, 'total_tokens': 148, 'completion_tokens_details': {'accepted_prediction_tokens': 0, 'audio_tokens': 0, 'reasoning_tokens': 0, 'rejected_prediction_tokens': 0}, 'prompt_tokens_details': {'audio_tokens': 0, 'cached_tokens': 0}}, 'model_name': 'gpt-4-0613', 'system_fingerprint': None, 'finish_reason': 'stop', 'logprobs': None}, id='run-dc0149f4-cb54-4349-82d2-44964e4834d3-0', usage_metadata={'input_tokens': 125, 'output_tokens': 23, 'total_tokens': 148, 'input_token_details': {'audio': 0, 'cache_read': 0}, 'output_token_details': {'audio': 0, 'reasoning': 0}})]}}\n",
      "----\n"
     ]
    }
   ],
   "source": [
    "for chunk in agent_executor.stream(\n",
    "    {\"messages\": [HumanMessage(content=\"I currently live in NYC\")]}, config\n",
    "):\n",
    "    print(chunk)\n",
    "    print(\"----\")"
   ]
  },
  {
   "cell_type": "code",
   "execution_count": 44,
   "metadata": {},
   "outputs": [
    {
     "name": "stdout",
     "output_type": "stream",
     "text": [
      "{'agent': {'messages': [AIMessage(content='', additional_kwargs={'tool_calls': [{'id': 'call_raDL0j93379LihNmIr97hgod', 'function': {'arguments': '{\\n  \"query\": \"current weather in NYC\"\\n}', 'name': 'tavily_search_results_json'}, 'type': 'function'}], 'refusal': None}, response_metadata={'token_usage': {'completion_tokens': 23, 'prompt_tokens': 163, 'total_tokens': 186, 'completion_tokens_details': {'accepted_prediction_tokens': 0, 'audio_tokens': 0, 'reasoning_tokens': 0, 'rejected_prediction_tokens': 0}, 'prompt_tokens_details': {'audio_tokens': 0, 'cached_tokens': 0}}, 'model_name': 'gpt-4-0613', 'system_fingerprint': None, 'finish_reason': 'tool_calls', 'logprobs': None}, id='run-3dde9bdc-f7bb-4845-bd60-b3937495b18e-0', tool_calls=[{'name': 'tavily_search_results_json', 'args': {'query': 'current weather in NYC'}, 'id': 'call_raDL0j93379LihNmIr97hgod', 'type': 'tool_call'}], usage_metadata={'input_tokens': 163, 'output_tokens': 23, 'total_tokens': 186, 'input_token_details': {'audio': 0, 'cache_read': 0}, 'output_token_details': {'audio': 0, 'reasoning': 0}})]}}\n",
      "----\n",
      "{'tools': {'messages': [ToolMessage(content='[{\"url\": \"https://www.accuweather.com/en/us/new-york/10021/weather-forecast/349727\", \"content\": \"TODAY’S WEATHER FORECAST\\\\nLooking Ahead\\\\nExpect rainy weather late tonight through tomorrow evening\\\\nTONIGHT’S WEATHER FORECAST\\\\nTOMORROW’S WEATHER FORECAST\\\\nNew York Weather Radar\\\\nFurther Ahead\\\\nHourly\\\\nDaily\\\\nMonthly\\\\nAround the Globe\\\\nHurricane Tracker\\\\nSevere Weather\\\\nRadar & Maps\\\\nNews\\\\nVideo\\\\nWinter Center\\\\nTop Stories\\\\nWinter Weather\\\\nWeekend storm to dish wintry weather to parts of Midwest, Northeast\\\\n3 hours ago\\\\nAstronomy\\\\nGeminids to outshine all other astronomy events in December\\\\n2 days ago\\\\nWeather News\\\\nOfficials release simulated images of man found dead in Lake Mead\\\\n1 day ago\\\\nAstronomy\\\\nFirst ever planet-forming disk spotted around star in another galaxy\\\\n1 day ago\\\\nWeather Forecasts\\\\nAtmospheric river to unleash month’s worth of rain in Northwest\\\\n3 hours ago\\\\nFeatured Stories\\\\nWeather News\\\\nGhostly new figures appear in the waters of the Caribbean\\\\n1 day ago\\\\nWeather News\\\\nResearchers find \\'witch bottles\\' washed up on Texas beaches\\\\n2 days ago\\\\nWeather News\\\\nGiant seamount found is twice the height of world’s tallest building\\\\n1 day ago\\\\nWeather News\\\\n5 Native American inventions that are still used in our modern world\\\\n3 days ago\\\\nHealth\\\\nWalking could lower your risk of type 2 diabetes\\\\n3 days ago\\\\nWeather Near New York:\\\\nWe have updated our Privacy Policy and Cookie Policy. New York, NY\\\\nNew York\\\\nNew York\\\\nAround the Globe\\\\nHurricane Tracker\\\\nSevere Weather\\\\nRadar & Maps\\\\nNews & Features\\\\nAstronomy\\\\nBusiness\\\\nClimate\\\\nHealth\\\\nRecreation\\\\nSports\\\\nTravel\\\\nVideo\\\\nWinter Center\\\\nToday\\\\nCurrent Weather\\\\n6:30 PM\\\\nCurrent Air Quality\\\\nToday\\\\n12/2\\\\nUnhealthy\\\\nHealth effects can be immediately felt by sensitive groups. Based on Current Pollutants\\\\nMore Details\\\\nLearn more at\\\\nUnhealthy\\\\nHealth effects can be immediately felt by sensitive groups. Based on Current Pollutants\\\\nCurrent Air Quality\\\\nOur current air quality index (AQI) provides information on the quality of air that you are breathing and its impact on your health. There are at least six different pollutants that we track that impact the cleanliness of air and your health.\\\\n\"}, {\"url\": \"https://www.wunderground.com/weather/us/ny/new-york-city\", \"content\": \"New York City, NY Weather Conditions | Weather Underground Sensor Network Maps & Radar Severe Weather News & Blogs Mobile Apps account_box Log in Go Ad Free_settings_ Settings Sensor NetworkMaps & RadarSevere WeatherNews & BlogsMobile AppsHistorical Weather New York City, NY Weather Conditions_star_rate__home_ 64\\xa0°F Battery Park City Station|Report Report Station Thank you for reporting this station. You are about to report this weather station for bad data. Current Station Personal Weather Station Nearby Weather Stations access_time 3:04 PM EST on November 18, 2024 (GMT -5) | Updated 22 seconds ago Today\\'s temperature is forecast to be WARMER than yesterday. Clear skies. Length of Visible Light Waning Half Last Qtr Nearby Weather Stations We may use or share your data with our data vendors. Data Rights\"}]', name='tavily_search_results_json', id='c48d0f87-8eab-4d4f-9783-7b040a6aa789', tool_call_id='call_raDL0j93379LihNmIr97hgod', artifact={'query': 'current weather in NYC', 'follow_up_questions': None, 'answer': None, 'images': [], 'results': [{'title': 'New York, NY Weather Forecast | AccuWeather', 'url': 'https://www.accuweather.com/en/us/new-york/10021/weather-forecast/349727', 'content': \"TODAY’S WEATHER FORECAST\\nLooking Ahead\\nExpect rainy weather late tonight through tomorrow evening\\nTONIGHT’S WEATHER FORECAST\\nTOMORROW’S WEATHER FORECAST\\nNew York Weather Radar\\nFurther Ahead\\nHourly\\nDaily\\nMonthly\\nAround the Globe\\nHurricane Tracker\\nSevere Weather\\nRadar & Maps\\nNews\\nVideo\\nWinter Center\\nTop Stories\\nWinter Weather\\nWeekend storm to dish wintry weather to parts of Midwest, Northeast\\n3 hours ago\\nAstronomy\\nGeminids to outshine all other astronomy events in December\\n2 days ago\\nWeather News\\nOfficials release simulated images of man found dead in Lake Mead\\n1 day ago\\nAstronomy\\nFirst ever planet-forming disk spotted around star in another galaxy\\n1 day ago\\nWeather Forecasts\\nAtmospheric river to unleash month’s worth of rain in Northwest\\n3 hours ago\\nFeatured Stories\\nWeather News\\nGhostly new figures appear in the waters of the Caribbean\\n1 day ago\\nWeather News\\nResearchers find 'witch bottles' washed up on Texas beaches\\n2 days ago\\nWeather News\\nGiant seamount found is twice the height of world’s tallest building\\n1 day ago\\nWeather News\\n5 Native American inventions that are still used in our modern world\\n3 days ago\\nHealth\\nWalking could lower your risk of type 2 diabetes\\n3 days ago\\nWeather Near New York:\\nWe have updated our Privacy Policy and Cookie Policy. New York, NY\\nNew York\\nNew York\\nAround the Globe\\nHurricane Tracker\\nSevere Weather\\nRadar & Maps\\nNews & Features\\nAstronomy\\nBusiness\\nClimate\\nHealth\\nRecreation\\nSports\\nTravel\\nVideo\\nWinter Center\\nToday\\nCurrent Weather\\n6:30 PM\\nCurrent Air Quality\\nToday\\n12/2\\nUnhealthy\\nHealth effects can be immediately felt by sensitive groups. Based on Current Pollutants\\nMore Details\\nLearn more at\\nUnhealthy\\nHealth effects can be immediately felt by sensitive groups. Based on Current Pollutants\\nCurrent Air Quality\\nOur current air quality index (AQI) provides information on the quality of air that you are breathing and its impact on your health. There are at least six different pollutants that we track that impact the cleanliness of air and your health.\\n\", 'score': 0.68090034, 'raw_content': None}, {'title': 'New York City, NY Weather Conditions | Weather Underground', 'url': 'https://www.wunderground.com/weather/us/ny/new-york-city', 'content': \"New York City, NY Weather Conditions | Weather Underground Sensor Network Maps & Radar Severe Weather News & Blogs Mobile Apps account_box Log in Go Ad Free_settings_ Settings Sensor NetworkMaps & RadarSevere WeatherNews & BlogsMobile AppsHistorical Weather New York City, NY Weather Conditions_star_rate__home_ 64\\xa0°F Battery Park City Station|Report Report Station Thank you for reporting this station. You are about to report this weather station for bad data. Current Station Personal Weather Station Nearby Weather Stations access_time 3:04 PM EST on November 18, 2024 (GMT -5) | Updated 22 seconds ago Today's temperature is forecast to be WARMER than yesterday. Clear skies. Length of Visible Light Waning Half Last Qtr Nearby Weather Stations We may use or share your data with our data vendors. Data Rights\", 'score': 0.67988104, 'raw_content': None}], 'response_time': 2.39})]}}\n",
      "----\n",
      "{'agent': {'messages': [AIMessage(content='The current weather in New York City is not explicitly mentioned in the search results. However, you can check the latest weather updates by visiting the provided links from AccuWeather [here](https://www.accuweather.com/en/us/new-york/10021/weather-forecast/349727) or Weather Underground [here](https://www.wunderground.com/weather/us/ny/new-york-city). Please note that the condition of air quality is currently marked as unhealthy, which can immediately affect sensitive groups.', additional_kwargs={'refusal': None}, response_metadata={'token_usage': {'completion_tokens': 104, 'prompt_tokens': 898, 'total_tokens': 1002, 'completion_tokens_details': {'accepted_prediction_tokens': 0, 'audio_tokens': 0, 'reasoning_tokens': 0, 'rejected_prediction_tokens': 0}, 'prompt_tokens_details': {'audio_tokens': 0, 'cached_tokens': 0}}, 'model_name': 'gpt-4-0613', 'system_fingerprint': None, 'finish_reason': 'stop', 'logprobs': None}, id='run-7bb0d4ac-386a-4edd-a4e5-0716f7b46aff-0', usage_metadata={'input_tokens': 898, 'output_tokens': 104, 'total_tokens': 1002, 'input_token_details': {'audio': 0, 'cache_read': 0}, 'output_token_details': {'audio': 0, 'reasoning': 0}})]}}\n",
      "----\n"
     ]
    }
   ],
   "source": [
    "for chunk in agent_executor.stream(\n",
    "    {\"messages\": [HumanMessage(content=\"What's the weather in my current location?\")]}, config\n",
    "):\n",
    "    print(chunk)\n",
    "    print(\"----\")"
   ]
  },
  {
   "cell_type": "code",
   "execution_count": 49,
   "metadata": {},
   "outputs": [
    {
     "data": {
      "image/png": "[encoded data removed]",
      "text/plain": [
       "<langgraph.graph.state.CompiledStateGraph object at 0xffff982d9910>"
      ]
     },
     "execution_count": 49,
     "metadata": {},
     "output_type": "execute_result"
    }
   ],
   "source": [
    "agent_executor"
   ]
  },
  {
   "cell_type": "code",
   "execution_count": 48,
   "metadata": {},
   "outputs": [
    {
     "data": {
      "text/plain": [
       "[TavilySearchResults(max_results=2, api_wrapper=TavilySearchAPIWrapper(tavily_api_key=SecretStr('**********')))]"
      ]
     },
     "execution_count": 48,
     "metadata": {},
     "output_type": "execute_result"
    }
   ],
   "source": [
    "tools"
   ]
  },
  {
   "cell_type": "code",
   "execution_count": null,
   "metadata": {},
   "outputs": [],
   "source": []
  }
 ],
 "metadata": {
  "kernelspec": {
   "display_name": "base",
   "language": "python",
   "name": "python3"
  },
  "language_info": {
   "codemirror_mode": {
    "name": "ipython",
    "version": 3
   },
   "file_extension": ".py",
   "mimetype": "text/x-python",
   "name": "python",
   "nbconvert_exporter": "python",
   "pygments_lexer": "ipython3",
   "version": "3.11.6"
  }
 },
 "nbformat": 4,
 "nbformat_minor": 2
}
